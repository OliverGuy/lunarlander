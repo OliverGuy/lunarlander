{
 "cells": [
  {
   "cell_type": "code",
   "execution_count": null,
   "id": "superb-screen",
   "metadata": {},
   "outputs": [],
   "source": [
    "%matplotlib inline\n",
    "import torch\n",
    "import torch.nn as nn\n",
    "import torch.nn.functional as F\n",
    "\n",
    "import optuna\n",
    "\n",
    "from DQN_parametrized import DQN_parametrized \n",
    "\n",
    "import gym\n",
    "import matplotlib.pyplot as plt\n",
    "from itertools import count\n",
    "\n",
    "import torch\n",
    "import torch.optim as optim\n",
    "import torch.nn.functional as F\n",
    "\n",
    "from memory import ReplayMemory\n",
    "from DQN import DQN\n",
    "from preprocessing import get_screen\n",
    "from utils import select_action, plot_scores, reset_steps\n",
    "from training import optimize_model"
   ]
  },
  {
   "cell_type": "code",
   "execution_count": null,
   "id": "assigned-stick",
   "metadata": {},
   "outputs": [],
   "source": [
    "env = gym.make('LunarLander-v2')"
   ]
  },
  {
   "cell_type": "code",
   "execution_count": null,
   "id": "complete-cowboy",
   "metadata": {},
   "outputs": [],
   "source": [
    "n_actions = env.action_space.n\n",
    "init_screen = get_screen(env)\n",
    "_, _, screen_height, screen_width = init_screen.shape"
   ]
  },
  {
   "cell_type": "code",
   "execution_count": null,
   "id": "intelligent-bearing",
   "metadata": {},
   "outputs": [],
   "source": [
    "plt.ion()"
   ]
  },
  {
   "cell_type": "code",
   "execution_count": null,
   "id": "ranging-consciousness",
   "metadata": {},
   "outputs": [],
   "source": [
    "device = torch.device(\"cuda\" if torch.cuda.is_available() else \"cpu\")"
   ]
  },
  {
   "cell_type": "code",
   "execution_count": null,
   "id": "solar-words",
   "metadata": {},
   "outputs": [],
   "source": [
    "best_booster = None\n",
    "target_net = None\n",
    "\n",
    "def callback(study, trial):\n",
    "    global best_booster\n",
    "    if study.best_trial == trial:\n",
    "        best_booster = target_net"
   ]
  },
  {
   "cell_type": "code",
   "execution_count": null,
   "id": "painful-exclusion",
   "metadata": {},
   "outputs": [],
   "source": [
    "def objective(trial):\n",
    "    reset_steps() # reset the epsilon of the epsilon-greedy policy\n",
    "    global target_net\n",
    "    \n",
    "    pred_net = DQN_parametrized(screen_height, screen_width, n_actions, trial).to(device)\n",
    "    \n",
    "    target_net = DQN_parametrized(screen_height, screen_width, n_actions, trial).to(device)\n",
    "    target_net.load_state_dict(pred_net.state_dict())\n",
    "    target_net.eval() \n",
    "    \n",
    "    REPLAY_MEMORY_SIZE = 1000\n",
    "    memory = ReplayMemory(REPLAY_MEMORY_SIZE)\n",
    "\n",
    "    TARGET_UPDATE = 1000  # period of target network update\n",
    "    optimizer = optim.RMSprop(pred_net.parameters())\n",
    "\n",
    "    num_episodes = 80\n",
    "    episode_rewards = []\n",
    "    steps = 0\n",
    "    eps_decay = 1000\n",
    "    for i_episode in range(num_episodes):\n",
    "        # Initialize the environment and state\n",
    "        env.reset()\n",
    "        state = get_screen(env).to(device)\n",
    "        episode_rewards.append(0)\n",
    "        done = False\n",
    "        while not done:\n",
    "            # Select and perform an action\n",
    "            action = select_action(pred_net, state, n_actions, eps_decay=eps_decay).to(device)\n",
    "            _, reward, done, _ = env.step(action.item())  # our states are screenshot differences\n",
    "            episode_rewards[-1] += reward\n",
    "\n",
    "            reward = torch.tensor([reward], device=device)\n",
    "\n",
    "            # Observe new state\n",
    "            if not done:\n",
    "                next_state = get_screen(env).to(device)\n",
    "            else:\n",
    "                next_state = None\n",
    "\n",
    "            # Store the transition in memory\n",
    "            memory.push(state, action, next_state, reward)\n",
    "\n",
    "            # Move to the next state\n",
    "            state = next_state\n",
    "\n",
    "            # Perform one step of the optimization (on the target network)\n",
    "            optimize_model(device, pred_net, target_net, optimizer, memory)\n",
    "            steps += 1\n",
    "\n",
    "            if steps == TARGET_UPDATE:  # update the target net weights\n",
    "                steps = 0\n",
    "                target_net.load_state_dict(pred_net.state_dict())\n",
    "        print(i_episode, 'reward:', episode_rewards[-1])\n",
    "    return sum(episode_rewards)/num_episodes"
   ]
  },
  {
   "cell_type": "code",
   "execution_count": null,
   "id": "senior-opera",
   "metadata": {
    "scrolled": false
   },
   "outputs": [],
   "source": [
    "study = optuna.create_study(direction='maximize')"
   ]
  },
  {
   "cell_type": "code",
   "execution_count": null,
   "id": "thick-volume",
   "metadata": {
    "tags": [
     "outputPrepend"
    ]
   },
   "outputs": [],
   "source": [
    "%%time\n",
    "study.optimize(objective, n_trials=20, callbacks=[callback])"
   ]
  },
  {
   "cell_type": "code",
   "execution_count": null,
   "id": "offensive-karma",
   "metadata": {},
   "outputs": [],
   "source": [
    "study.best_trial"
   ]
  },
  {
   "cell_type": "code",
   "execution_count": null,
   "metadata": {},
   "outputs": [],
   "source": [
    "def run_best(trial):\n",
    "    reset_steps() # reset the epsilon of the epsilon-greedy policy\n",
    "    global target_net\n",
    "    \n",
    "    pred_net = DQN_parametrized(screen_height, screen_width, n_actions, trial).to(device)\n",
    "    \n",
    "    target_net = DQN_parametrized(screen_height, screen_width, n_actions, trial).to(device)\n",
    "    target_net.load_state_dict(pred_net.state_dict())\n",
    "    target_net.eval() \n",
    "    \n",
    "    REPLAY_MEMORY_SIZE = 1000\n",
    "    memory = ReplayMemory(REPLAY_MEMORY_SIZE)\n",
    "\n",
    "    TARGET_UPDATE = 1000  # period of target network update\n",
    "    optimizer = optim.RMSprop(pred_net.parameters())\n",
    "\n",
    "    num_episodes = 1000\n",
    "    episode_rewards = []\n",
    "    steps = 0\n",
    "    eps_decay = 1000\n",
    "    for i_episode in range(num_episodes):\n",
    "        # Initialize the environment and state\n",
    "        env.reset()\n",
    "        state = get_screen(env).to(device)\n",
    "        episode_rewards.append(0)\n",
    "        done = False\n",
    "        while not done:\n",
    "            # Select and perform an action\n",
    "            action = select_action(pred_net, state, n_actions, eps_decay=eps_decay).to(device)\n",
    "            _, reward, done, _ = env.step(action.item())  # our states are screenshot differences\n",
    "            episode_rewards[-1] += reward\n",
    "\n",
    "            reward = torch.tensor([reward], device=device)\n",
    "\n",
    "            # Observe new state\n",
    "            if not done:\n",
    "                next_state = get_screen(env).to(device)\n",
    "            else:\n",
    "                next_state = None\n",
    "\n",
    "            # Store the transition in memory\n",
    "            memory.push(state, action, next_state, reward)\n",
    "\n",
    "            # Move to the next state\n",
    "            state = next_state\n",
    "\n",
    "            # Perform one step of the optimization (on the target network)\n",
    "            optimize_model(device, pred_net, target_net, optimizer, memory)\n",
    "            steps += 1\n",
    "\n",
    "            if steps == TARGET_UPDATE:  # update the target net weights\n",
    "                steps = 0\n",
    "                target_net.load_state_dict(pred_net.state_dict())\n",
    "        plot_scores(episode_rewards)\n",
    "    return sum(episode_rewards)/num_episodes"
   ]
  },
  {
   "cell_type": "code",
   "execution_count": null,
   "metadata": {},
   "outputs": [],
   "source": [
    "run_best(study.best_trial)"
   ]
  }
 ],
 "metadata": {
  "kernelspec": {
   "display_name": "Python 3",
   "language": "python",
   "name": "python3"
  },
  "language_info": {
   "codemirror_mode": {
    "name": "ipython",
    "version": 3
   },
   "file_extension": ".py",
   "mimetype": "text/x-python",
   "name": "python",
   "nbconvert_exporter": "python",
   "pygments_lexer": "ipython3",
   "version": "3.8.8-final"
  }
 },
 "nbformat": 4,
 "nbformat_minor": 5
}